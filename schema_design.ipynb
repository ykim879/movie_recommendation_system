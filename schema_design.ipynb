{
 "cells": [
  {
   "cell_type": "code",
   "execution_count": 43,
   "id": "spoken-naples",
   "metadata": {},
   "outputs": [],
   "source": [
    "import os\n",
    "import pyspark\n",
    "from pyspark.sql.types import StructType,StructField, StringType, IntegerType \n",
    "from pyspark.sql import SparkSession\n",
    "from pyspark.sql.functions import col\n",
    "datasets_path = os.path.join('..','movie_recommendation_system', 'datasets')\n",
    "complete_ratings_file = os.path.join(datasets_path, 'ml-latest', 'ratings.csv')\n",
    "tags_file = os.path.join(datasets_path, 'ml-latest', 'tags.csv')\n",
    "links_file = os.path.join(datasets_path, 'ml-latest','links.csv')\n",
    "movies_file = os.path.join(datasets_path, 'ml-latest', 'movies.csv')"
   ]
  },
  {
   "cell_type": "code",
   "execution_count": 44,
   "id": "executive-letters",
   "metadata": {},
   "outputs": [],
   "source": [
    "spark = SparkSession.builder.getOrCreate()"
   ]
  },
  {
   "cell_type": "code",
   "execution_count": 45,
   "id": "alpha-pendant",
   "metadata": {},
   "outputs": [],
   "source": [
    "#Schema design which are as same as csv\n",
    "ratingschema = StructType()\\\n",
    "    .add(\"userID\", IntegerType(), True)\\\n",
    "    .add(\"movieId\", IntegerType(), True)\\\n",
    "    .add(\"rating\", IntegerType(), True)\\\n",
    "    .add(\"timeStamp\", IntegerType(), True)\n",
    "tagsschema = StructType()\\\n",
    "    .add(\"userID\", IntegerType(), True)\\\n",
    "    .add(\"movieId\", IntegerType(), True)\\\n",
    "    .add(\"tag\", StringType(), True)\\\n",
    "    .add(\"timeStamp\", IntegerType(), True)\n",
    "linkschema = StructType()\\\n",
    "    .add(\"movieId\", IntegerType(), True)\\\n",
    "    .add(\"IMDBID\", IntegerType(), True)\\\n",
    "    .add(\"TMDBID\", IntegerType(), True)"
   ]
  },
  {
   "cell_type": "code",
   "execution_count": 46,
   "id": "alpha-mining",
   "metadata": {},
   "outputs": [],
   "source": [
    "ratingdf = spark.read.format(\"csv\")\\\n",
    "    .option(\"header\",True)\\\n",
    "    .schema(ratingschema)\\\n",
    "    .load(complete_ratings_file)\n",
    "tagdf = spark.read.format(\"csv\")\\\n",
    "    .option(\"header\",True)\\\n",
    "    .schema(tagsschema)\\\n",
    "    .load(tags_file)\n",
    "linkdf = spark.read.format(\"csv\")\\\n",
    "    .option(\"header\",True)\\\n",
    "    .schema(linkschema)\\\n",
    "    .load(links_file)"
   ]
  },
  {
   "cell_type": "code",
   "execution_count": 48,
   "id": "uniform-coffee",
   "metadata": {},
   "outputs": [],
   "source": [
    "movie = spark.read.option(\"inferSchema\", \"true\")\\\n",
    "    .option(\"header\", \"true\").csv(movies_file)\n",
    "moviedf = moviedf.drop(\"genres\")\n",
    "genredf = movie.drop(\"title\")\n",
    "userdf = ratingdf.drop(\"movieID\", \"tating\", \"timeStamp\")\n",
    "userdf = userdf.select('userID').distinct()"
   ]
  },
  {
   "cell_type": "code",
   "execution_count": null,
   "id": "delayed-province",
   "metadata": {},
   "outputs": [],
   "source": []
  }
 ],
 "metadata": {
  "kernelspec": {
   "display_name": "Python 3",
   "language": "python",
   "name": "python3"
  },
  "language_info": {
   "codemirror_mode": {
    "name": "ipython",
    "version": 3
   },
   "file_extension": ".py",
   "mimetype": "text/x-python",
   "name": "python",
   "nbconvert_exporter": "python",
   "pygments_lexer": "ipython3",
   "version": "3.8.5"
  }
 },
 "nbformat": 4,
 "nbformat_minor": 5
}
