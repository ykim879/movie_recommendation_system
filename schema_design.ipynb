{
 "cells": [
  {
   "cell_type": "code",
   "execution_count": 1,
   "id": "spoken-naples",
   "metadata": {},
   "outputs": [],
   "source": [
    "import os\n",
    "import pyspark\n",
    "from pyspark.sql.types import *\n",
    "from pyspark.sql import SparkSession\n",
    "from pyspark.sql.functions import col\n",
    "datasets_path = os.path.join('..','movie_recommendation_system', 'datasets')\n",
    "complete_ratings_file = os.path.join(datasets_path, 'ml-latest', 'ratings.csv')\n",
    "tags_file = os.path.join(datasets_path, 'ml-latest', 'tags.csv')\n",
    "links_file = os.path.join(datasets_path, 'ml-latest','links.csv')\n",
    "movies_file = os.path.join(datasets_path, 'ml-latest', 'movies.csv')"
   ]
  },
  {
   "cell_type": "code",
   "execution_count": 2,
   "id": "executive-letters",
   "metadata": {},
   "outputs": [
    {
     "data": {
      "text/plain": [
       "'\\nspark = SparkSession.builder     .master(\\'local[*]\\')     .config(\"spark.driver.memory\", \"50g\")     .config(\"spark.submit.deployMode\", \"local\")     .config(\"spark.executor.memory\", \"200g\")     .config(\\'spark.driver.maxResultSize\\', \\'200G\\')     .config(\\'spark.executor.cores\\', \\'5\\')    .config(\\'spark.memory.fraction \\', \\'0\\')    .config(\\'spark.memory.offHeap.enabled\\', \\'true\\')    .config(\\'spark.memory.offHeap.size\\', \\'2g\\')    .appName(\\'movie-recomendation\\')     .getOrCreate()\\n'"
      ]
     },
     "execution_count": 2,
     "metadata": {},
     "output_type": "execute_result"
    }
   ],
   "source": [
    "spark = SparkSession.builder.getOrCreate()\n",
    "\"\"\"\n",
    "spark = SparkSession.builder \\\n",
    "    .master('local[*]') \\\n",
    "    .config(\"spark.driver.memory\", \"50g\") \\\n",
    "    .config(\"spark.submit.deployMode\", \"local\") \\\n",
    "    .config(\"spark.executor.memory\", \"200g\") \\\n",
    "    .config('spark.driver.maxResultSize', '200G') \\\n",
    "    .config('spark.executor.cores', '5')\\\n",
    "    .config('spark.memory.fraction ', '0')\\\n",
    "    .config('spark.memory.offHeap.enabled', 'true')\\\n",
    "    .config('spark.memory.offHeap.size', '2g')\\\n",
    "    .appName('movie-recomendation') \\\n",
    "    .getOrCreate()\n",
    "\"\"\""
   ]
  },
  {
   "cell_type": "code",
   "execution_count": 3,
   "id": "starting-feeding",
   "metadata": {},
   "outputs": [
    {
     "data": {
      "text/plain": [
       "[('spark.driver.host', '192.168.1.73'),\n",
       " ('spark.sql.catalogImplementation', 'hive'),\n",
       " ('spark.driver.port', '40381'),\n",
       " ('spark.rdd.compress', 'True'),\n",
       " ('spark.serializer.objectStreamReset', '100'),\n",
       " ('spark.master', 'local[*]'),\n",
       " ('spark.submit.pyFiles', ''),\n",
       " ('spark.executor.id', 'driver'),\n",
       " ('spark.submit.deployMode', 'client'),\n",
       " ('spark.app.id', 'local-1617849580041'),\n",
       " ('spark.app.name', 'PySparkShell'),\n",
       " ('spark.ui.showConsoleProgress', 'true')]"
      ]
     },
     "execution_count": 3,
     "metadata": {},
     "output_type": "execute_result"
    }
   ],
   "source": [
    "sc.getConf().getAll()"
   ]
  },
  {
   "cell_type": "code",
   "execution_count": 4,
   "id": "closed-working",
   "metadata": {},
   "outputs": [
    {
     "data": {
      "text/plain": [
       "[('spark.driver.memory', '50g'),\n",
       " ('spark.driver.host', '192.168.1.73'),\n",
       " ('spark.submit.deployMode', 'cluster'),\n",
       " ('spark.executor.id', 'driver'),\n",
       " ('spark.executor.memory', '10p'),\n",
       " ('spark.app.name', 'PySparkShell'),\n",
       " ('spark.executor.cores', '10'),\n",
       " ('spark.memory.fraction', '0.01'),\n",
       " ('spark.cores.max', '10'),\n",
       " ('spark.rdd.compress', 'True'),\n",
       " ('spark.serializer.objectStreamReset', '100'),\n",
       " ('spark.master', 'local[*]'),\n",
       " ('spark.submit.pyFiles', ''),\n",
       " ('spark.driver.port', '34273'),\n",
       " ('spark.ui.showConsoleProgress', 'true'),\n",
       " ('spark.driver.maxResultSize', '10p'),\n",
       " ('spark.app.id', 'local-1617849581901')]"
      ]
     },
     "execution_count": 4,
     "metadata": {},
     "output_type": "execute_result"
    }
   ],
   "source": [
    "#\n",
    "conf1 = pyspark.SparkConf().setAll([('spark.executor.memory', '10p'), ('spark.driver.maxResultSize', '10p'),('spark.executor.cores', '10'), \n",
    "                                    ('spark.cores.max', '10'), ('spark.driver.memory','50g'), \n",
    "                                    ('spark.memory.fraction', '0.01'), ('spark.submit.deployMode', 'cluster')])\n",
    "sc.stop()\n",
    "sc = pyspark.SparkContext(conf=conf1)\n",
    "spark = SparkSession.builder.config(conf=conf1).getOrCreate()\n",
    "sc.getConf().getAll()"
   ]
  },
  {
   "cell_type": "code",
   "execution_count": 5,
   "id": "alpha-pendant",
   "metadata": {},
   "outputs": [],
   "source": [
    "#Schema design which are as same as csv\n",
    "ratingschema = StructType()\\\n",
    "    .add(\"userId\", IntegerType(), True)\\\n",
    "    .add(\"movieId\", IntegerType(), True)\\\n",
    "    .add(\"rating\", FloatType(), True)\\\n",
    "    .add(\"timeStamp\", IntegerType(), True)\n",
    "tagsschema = StructType()\\\n",
    "    .add(\"userId\", IntegerType(), True)\\\n",
    "    .add(\"movieId\", IntegerType(), True)\\\n",
    "    .add(\"tag\", StringType(), True)\\\n",
    "    .add(\"timeStamp\", IntegerType(), True)\n",
    "linkschema = StructType()\\\n",
    "    .add(\"movieId\", IntegerType(), True)\\\n",
    "    .add(\"IMDBID\", IntegerType(), True)\\\n",
    "    .add(\"TMDBID\", IntegerType(), True)"
   ]
  },
  {
   "cell_type": "code",
   "execution_count": 6,
   "id": "alpha-mining",
   "metadata": {},
   "outputs": [],
   "source": [
    "ratingdf = spark.read.format(\"csv\")\\\n",
    "    .option(\"header\",True)\\\n",
    "    .schema(ratingschema)\\\n",
    "    .load(complete_ratings_file)\n",
    "tagdf = spark.read.format(\"csv\")\\\n",
    "    .option(\"header\",True)\\\n",
    "    .schema(tagsschema)\\\n",
    "    .load(tags_file)\n",
    "linkdf = spark.read.format(\"csv\")\\\n",
    "    .option(\"header\",True)\\\n",
    "    .schema(linkschema)\\\n",
    "    .load(links_file)"
   ]
  },
  {
   "cell_type": "code",
   "execution_count": 7,
   "id": "moral-stuart",
   "metadata": {},
   "outputs": [
    {
     "name": "stdout",
     "output_type": "stream",
     "text": [
      "+------+-------+------+----------+\n",
      "|userId|movieId|rating| timeStamp|\n",
      "+------+-------+------+----------+\n",
      "|     1|    307|   3.5|1256677221|\n",
      "|     1|    481|   3.5|1256677456|\n",
      "|     1|   1091|   1.5|1256677471|\n",
      "|     1|   1257|   4.5|1256677460|\n",
      "|     1|   1449|   4.5|1256677264|\n",
      "|     1|   1590|   2.5|1256677236|\n",
      "|     1|   1591|   1.5|1256677475|\n",
      "|     1|   2134|   4.5|1256677464|\n",
      "|     1|   2478|   4.0|1256677239|\n",
      "|     1|   2840|   3.0|1256677500|\n",
      "|     1|   2986|   2.5|1256677496|\n",
      "|     1|   3020|   4.0|1256677260|\n",
      "|     1|   3424|   4.5|1256677444|\n",
      "|     1|   3698|   3.5|1256677243|\n",
      "|     1|   3826|   2.0|1256677210|\n",
      "|     1|   3893|   3.5|1256677486|\n",
      "|     2|    170|   3.5|1192913581|\n",
      "|     2|    849|   3.5|1192913537|\n",
      "|     2|   1186|   3.5|1192913611|\n",
      "|     2|   1235|   3.0|1192913585|\n",
      "+------+-------+------+----------+\n",
      "only showing top 20 rows\n",
      "\n"
     ]
    },
    {
     "data": {
      "text/plain": [
       "(None,\n",
       " DataFrame[userId: int, movieId: int, tag: string, timeStamp: int],\n",
       " DataFrame[movieId: int, IMDBID: int, TMDBID: int])"
      ]
     },
     "execution_count": 7,
     "metadata": {},
     "output_type": "execute_result"
    }
   ],
   "source": [
    "ratingdf.show(), tagdf, linkdf"
   ]
  },
  {
   "cell_type": "code",
   "execution_count": 8,
   "id": "honest-journalism",
   "metadata": {},
   "outputs": [
    {
     "data": {
      "text/plain": [
       "DataFrame[movieId: int, title: string, genres: string]"
      ]
     },
     "execution_count": 8,
     "metadata": {},
     "output_type": "execute_result"
    }
   ],
   "source": [
    "movie = spark.read.option(\"inferSchema\", \"true\")\\\n",
    "    .option(\"header\", \"true\").csv(movies_file)\n",
    "movie"
   ]
  },
  {
   "cell_type": "code",
   "execution_count": 9,
   "id": "uniform-coffee",
   "metadata": {},
   "outputs": [],
   "source": [
    "moviedf = movie.drop(\"genres\")\n",
    "genredf = movie.drop(\"title\")\n",
    "userdf = ratingdf.drop(\"movieId\", \"rating\", \"timeStamp\")\n",
    "userdf = userdf.select('userId').distinct()"
   ]
  },
  {
   "cell_type": "code",
   "execution_count": 10,
   "id": "dirty-framework",
   "metadata": {},
   "outputs": [
    {
     "data": {
      "text/plain": [
       "(DataFrame[movieId: int, title: string],\n",
       " DataFrame[movieId: int, genres: string],\n",
       " DataFrame[userId: int])"
      ]
     },
     "execution_count": 10,
     "metadata": {},
     "output_type": "execute_result"
    }
   ],
   "source": [
    "moviedf, genredf, userdf"
   ]
  },
  {
   "cell_type": "markdown",
   "id": "reliable-beach",
   "metadata": {},
   "source": [
    "we need to connect Redis here"
   ]
  },
  {
   "cell_type": "markdown",
   "id": "agricultural-harmony",
   "metadata": {},
   "source": [
    "# ALS: collaborative filtering for explicit data"
   ]
  },
  {
   "cell_type": "code",
   "execution_count": 11,
   "id": "fourth-complement",
   "metadata": {},
   "outputs": [],
   "source": [
    "from pyspark.ml.evaluation import RegressionEvaluator\n",
    "from pyspark.ml.recommendation import ALS\n",
    "from pyspark.sql import Row"
   ]
  },
  {
   "cell_type": "code",
   "execution_count": 12,
   "id": "comparative-development",
   "metadata": {},
   "outputs": [
    {
     "name": "stdout",
     "output_type": "stream",
     "text": [
      "+------+-------+------+\n",
      "|userId|movieId|rating|\n",
      "+------+-------+------+\n",
      "|     1|    307|   3.5|\n",
      "|     1|    481|   3.5|\n",
      "|     1|   1091|   1.5|\n",
      "|     1|   1257|   4.5|\n",
      "|     1|   1449|   4.5|\n",
      "|     1|   1590|   2.5|\n",
      "|     1|   1591|   1.5|\n",
      "|     1|   2134|   4.5|\n",
      "|     1|   2478|   4.0|\n",
      "|     1|   2840|   3.0|\n",
      "|     1|   2986|   2.5|\n",
      "|     1|   3020|   4.0|\n",
      "|     1|   3424|   4.5|\n",
      "|     1|   3698|   3.5|\n",
      "|     1|   3826|   2.0|\n",
      "|     1|   3893|   3.5|\n",
      "|     2|    170|   3.5|\n",
      "|     2|    849|   3.5|\n",
      "|     2|   1186|   3.5|\n",
      "|     2|   1235|   3.0|\n",
      "+------+-------+------+\n",
      "only showing top 20 rows\n",
      "\n"
     ]
    }
   ],
   "source": [
    "ratingforals = ratingdf.drop(\"timeStamp\")\n",
    "ratingforals.show()\n",
    "#spark.driver.memoryOverhead\n",
    "#spark.executor.memoryOverhead"
   ]
  },
  {
   "cell_type": "code",
   "execution_count": 14,
   "id": "supreme-mechanism",
   "metadata": {},
   "outputs": [
    {
     "name": "stdout",
     "output_type": "stream",
     "text": [
      "+------+-------+------+\n",
      "|userId|movieId|rating|\n",
      "+------+-------+------+\n",
      "|     1|    307|   3.5|\n",
      "|     1|    481|   3.5|\n",
      "|     1|   1091|   1.5|\n",
      "|     1|   1257|   4.5|\n",
      "|     1|   1449|   4.5|\n",
      "|     1|   1590|   2.5|\n",
      "|     1|   1591|   1.5|\n",
      "|     1|   2134|   4.5|\n",
      "|     1|   2478|   4.0|\n",
      "|     1|   2840|   3.0|\n",
      "+------+-------+------+\n",
      "\n"
     ]
    }
   ],
   "source": [
    "training = ratingforals.limit(10)\n",
    "training.show()"
   ]
  },
  {
   "cell_type": "code",
   "execution_count": 15,
   "id": "precise-sodium",
   "metadata": {},
   "outputs": [],
   "source": [
    "\n",
    "# Build the recommendation model using ALS on the training data\n",
    "# Note we set cold start strategy to 'drop' to ensure we don't get NaN evaluation metrics\n",
    "# c\n",
    "als = ALS(maxIter=3, regParam=0.01, userCol=\"userId\", itemCol=\"movieId\", ratingCol=\"rating\", \n",
    "          coldStartStrategy=\"drop\")\n",
    "model = als.fit(training)\n",
    "\n"
   ]
  },
  {
   "cell_type": "code",
   "execution_count": 16,
   "id": "russian-butler",
   "metadata": {},
   "outputs": [],
   "source": [
    "# Generate top 10 movie recommendations for each user\n",
    "userRecs = model.recommendForAllUsers(10)\n",
    "# Generate top 10 user recommendations for each movie\n",
    "movieRecs = model.recommendForAllItems(10)"
   ]
  },
  {
   "cell_type": "code",
   "execution_count": 27,
   "id": "descending-coast",
   "metadata": {},
   "outputs": [
    {
     "name": "stdout",
     "output_type": "stream",
     "text": [
      "+------+\n",
      "|userId|\n",
      "+------+\n",
      "|     1|\n",
      "+------+\n",
      "\n"
     ]
    }
   ],
   "source": [
    "users = training.select(als.getUserCol()).distinct().limit(3)\n",
    "users.show()"
   ]
  },
  {
   "cell_type": "code",
   "execution_count": 28,
   "id": "cosmetic-thumbnail",
   "metadata": {},
   "outputs": [
    {
     "name": "stdout",
     "output_type": "stream",
     "text": [
      "+------+--------------------+\n",
      "|userId|     recommendations|\n",
      "+------+--------------------+\n",
      "|     1|[[2134, 4.4960732...|\n",
      "+------+--------------------+\n",
      "\n"
     ]
    }
   ],
   "source": [
    "userSubsetRecs = model.recommendForUserSubset(users, 10)\n",
    "userSubsetRecs.show()"
   ]
  },
  {
   "cell_type": "markdown",
   "id": "opposite-answer",
   "metadata": {},
   "source": [
    "error message: \n",
    "1. when executor = 50g, 200g: Job aborted due to stage failure: Task 1 in stage 7.0 failed 1 times, most recent failure: Lost task 1.0 in stage 7.0 (TID 22, 192.168.1.73, executor driver): java.lang.OutOfMemoryError: Java heap space\n",
    "2. additional maxreusltsize = 20G: Py4JJavaError: An error occurred while calling o145.fit.\n",
    ": org.apache.spark.SparkException: Job aborted due to stage failure: Task 6 in stage 7.0 failed 1 times, most recent failure: Lost task 6.0 in stage 7.0 (TID 27, 192.16An error occurred while calling o381.fit.\n",
    ": org.apache.spark.SparkException: Job aborted due to stage failure: Task 0 in stage 7.0 failed 1 times, most recent failure: Lost task 0.0 in stage 7.0 (TID 21, 192.168.1.73, executor driver): java.lang.OutOfMemoryError: Java heap space8.1.73, executor driver): java.lang.OutOfMemoryError: Java heap space\\\n",
    "maybe this:\n",
    "https://knowledge.informatica.com/s/article/567632?language=en_US\\\n",
    "An error occurred while calling o381.fit.\n",
    ": org.apache.spark.SparkException: Job aborted due to stage failure: Task 0 in stage 7.0 failed 1 times, most recent failure: Lost task 0.0 in stage 7.0 (TID 21, 192.168.1.73, executor driver): java.lang.OutOfMemoryError: Java heap space"
   ]
  },
  {
   "cell_type": "markdown",
   "id": "friendly-theory",
   "metadata": {},
   "source": [
    "https://spark.apache.org/docs/2.3.1/ml-collaborative-filtering.html"
   ]
  },
  {
   "cell_type": "code",
   "execution_count": null,
   "id": "statewide-machinery",
   "metadata": {},
   "outputs": [],
   "source": []
  }
 ],
 "metadata": {
  "kernelspec": {
   "display_name": "Python 3",
   "language": "python",
   "name": "python3"
  },
  "language_info": {
   "codemirror_mode": {
    "name": "ipython",
    "version": 3
   },
   "file_extension": ".py",
   "mimetype": "text/x-python",
   "name": "python",
   "nbconvert_exporter": "python",
   "pygments_lexer": "ipython3",
   "version": "3.8.5"
  }
 },
 "nbformat": 4,
 "nbformat_minor": 5
}
