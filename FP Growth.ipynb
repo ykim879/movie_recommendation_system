{
 "cells": [
  {
   "cell_type": "code",
   "execution_count": 5,
   "id": "4c820264",
   "metadata": {},
   "outputs": [],
   "source": [
    "import os\n",
    "import pyspark\n",
    "from pyspark.sql.types import StructType,StructField, StringType, IntegerType, DoubleType\n",
    "from pyspark.sql import SparkSession\n",
    "from pyspark.sql.functions import col, concat, lit\n",
    "from pyspark.sql.functions import udf\n",
    "from pyspark.sql.types import *"
   ]
  },
  {
   "cell_type": "code",
   "execution_count": 17,
   "id": "fdce2e7a",
   "metadata": {},
   "outputs": [],
   "source": [
    "'''additional function for fp growth'''\n",
    "from pyspark.sql.functions import collect_set, count\n",
    "from pyspark.ml.fpm import FPGrowth"
   ]
  },
  {
   "cell_type": "code",
   "execution_count": 7,
   "id": "e786471e",
   "metadata": {},
   "outputs": [],
   "source": [
    "'''\n",
    "load pyspark\n",
    "'''\n",
    "spark = SparkSession.builder.getOrCreate()\n",
    "sc = spark.sparkContext\n",
    "spark = SparkSession.builder.appName(\"Spark_Processor\").config(\"spark.redis.port\", \"6379\").config(\"spark.jars\", \"spark-redis-branch-2.4/target/spark-redis_2.11-2.5.0-SNAPSHOT-jar-with-dependencies.jar\").getOrCreate()\n",
    "conf = pyspark.SparkConf()\n",
    "sc = spark.sparkContext"
   ]
  },
  {
   "cell_type": "code",
   "execution_count": 26,
   "id": "079ddbab",
   "metadata": {
    "scrolled": true
   },
   "outputs": [
    {
     "name": "stdout",
     "output_type": "stream",
     "text": [
      "+-------+--------------------+------+------+\n",
      "|movieId|                 key|userId|rating|\n",
      "+-------+--------------------+------+------+\n",
      "|   6503|User ID: 149977, ...|149977|   5.0|\n",
      "|   4226|User ID: 730, Mov...|   730|   5.0|\n",
      "| 122912|User ID: 137122, ...|137122|   4.5|\n",
      "|   4226|User ID: 27592, M...| 27592|   5.0|\n",
      "|   1222|User ID: 27813, M...| 27813|   5.0|\n",
      "|   1293|User ID: 109671, ...|109671|   5.0|\n",
      "|  72998|User ID: 55013, M...| 55013|   5.0|\n",
      "|   2046|User ID: 35213, M...| 35213|   5.0|\n",
      "|  83613|User ID: 70678, M...| 70678|   4.5|\n",
      "|   4890|User ID: 132357, ...|132357|   5.0|\n",
      "|  87306|User ID: 63360, M...| 63360|   5.0|\n",
      "|    924|User ID: 139148, ...|139148|   4.5|\n",
      "|   1213|User ID: 74028, M...| 74028|   5.0|\n",
      "|   1125|User ID: 105083, ...|105083|   5.0|\n",
      "|    538|User ID: 15598, M...| 15598|   5.0|\n",
      "|   1580|User ID: 34169, M...| 34169|   5.0|\n",
      "|    589|User ID: 95905, M...| 95905|   5.0|\n",
      "|   1089|User ID: 85327, M...| 85327|   5.0|\n",
      "|   3396|User ID: 110253, ...|110253|   5.0|\n",
      "|  72998|User ID: 114458, ...|114458|   5.0|\n",
      "+-------+--------------------+------+------+\n",
      "only showing top 20 rows\n",
      "\n"
     ]
    }
   ],
   "source": [
    "read_likedMoviedf = spark.read.format(\"org.apache.spark.sql.redis\").option(\"table\", \"likedMovie\").option(\"key.column\", \"key\").load()\n",
    "read_likedMoviedf.show()"
   ]
  },
  {
   "cell_type": "code",
   "execution_count": 27,
   "id": "b06c0ef7",
   "metadata": {},
   "outputs": [],
   "source": [
    "# https://databricks.com/blog/2018/09/18/simplify-market-basket-analysis-using-fp-growth-on-databricks.html\n",
    "df = read_likedMoviedf.groupBy('userId').agg(collect_set('movieId').alias('items'))"
   ]
  },
  {
   "cell_type": "code",
   "execution_count": 28,
   "id": "992c4626",
   "metadata": {},
   "outputs": [
    {
     "name": "stdout",
     "output_type": "stream",
     "text": [
      "+------+--------------------+\n",
      "|userId|               items|\n",
      "+------+--------------------+\n",
      "|   148|[589, 2067, 750, ...|\n",
      "|   463|              [1391]|\n",
      "|   833|[79091, 91658, 32...|\n",
      "|  1088|              [1270]|\n",
      "|  1238|[4226, 91658, 122...|\n",
      "|  1342|[40819, 4226, 122...|\n",
      "|  1580|             [68135]|\n",
      "|  1645|          [589, 377]|\n",
      "|  1829|     [368, 932, 908]|\n",
      "|  1959|   [48385, 849, 377]|\n",
      "|  2122|[4226, 1222, 1208...|\n",
      "|  2142|              [1608]|\n",
      "|  2366|              [7162]|\n",
      "|  2866|              [1213]|\n",
      "|  3175|         [750, 1292]|\n",
      "|  3794|[4226, 56145, 750...|\n",
      "|  3918|[4701, 589, 4226,...|\n",
      "|  3997|[1204, 49772, 668...|\n",
      "|  4900|[4226, 1617, 1049...|\n",
      "|  4935|              [4226]|\n",
      "+------+--------------------+\n",
      "only showing top 20 rows\n",
      "\n"
     ]
    }
   ],
   "source": [
    "df.show()"
   ]
  },
  {
   "cell_type": "code",
   "execution_count": 29,
   "id": "0e72b2d6",
   "metadata": {},
   "outputs": [],
   "source": [
    "fpGrowth = FPGrowth(itemsCol=\"items\", minSupport=0.5, minConfidence=0.6)\n",
    "model = fpGrowth.fit(df)"
   ]
  },
  {
   "cell_type": "code",
   "execution_count": 30,
   "id": "db6fa397",
   "metadata": {},
   "outputs": [],
   "source": [
    "associationRules = model.associationRules"
   ]
  },
  {
   "cell_type": "code",
   "execution_count": 32,
   "id": "968658de",
   "metadata": {},
   "outputs": [
    {
     "name": "stdout",
     "output_type": "stream",
     "text": [
      "+----------+----------+----------+----+\n",
      "|antecedent|consequent|confidence|lift|\n",
      "+----------+----------+----------+----+\n",
      "+----------+----------+----------+----+\n",
      "\n"
     ]
    }
   ],
   "source": [
    "associationRules.show()"
   ]
  },
  {
   "cell_type": "code",
   "execution_count": 33,
   "id": "92433fa8",
   "metadata": {},
   "outputs": [
    {
     "name": "stdout",
     "output_type": "stream",
     "text": [
      "+------+--------------------+\n",
      "|userId|               items|\n",
      "+------+--------------------+\n",
      "|   148|[589, 2067, 750, ...|\n",
      "|   463|              [1391]|\n",
      "|   833|[79091, 91658, 32...|\n",
      "|  1088|              [1270]|\n",
      "|  1238|[4226, 91658, 122...|\n",
      "|  1342|[40819, 4226, 122...|\n",
      "|  1580|             [68135]|\n",
      "|  1645|          [589, 377]|\n",
      "|  1829|     [368, 932, 908]|\n",
      "|  1959|   [48385, 849, 377]|\n",
      "|  2122|[4226, 1222, 1208...|\n",
      "|  2142|              [1608]|\n",
      "|  2366|              [7162]|\n",
      "|  2866|              [1213]|\n",
      "|  3175|         [750, 1292]|\n",
      "|  3794|[4226, 56145, 750...|\n",
      "|  3918|[4701, 589, 4226,...|\n",
      "|  3997|[1204, 49772, 668...|\n",
      "|  4900|[4226, 1617, 1049...|\n",
      "|  4935|              [4226]|\n",
      "+------+--------------------+\n",
      "only showing top 20 rows\n",
      "\n"
     ]
    }
   ],
   "source": [
    "df.show()"
   ]
  },
  {
   "cell_type": "code",
   "execution_count": 34,
   "id": "e39ab01b",
   "metadata": {},
   "outputs": [
    {
     "name": "stdout",
     "output_type": "stream",
     "text": [
      "+-----+----+\n",
      "|items|freq|\n",
      "+-----+----+\n",
      "+-----+----+\n",
      "\n"
     ]
    }
   ],
   "source": [
    "model.freqItemsets.show()"
   ]
  },
  {
   "cell_type": "code",
   "execution_count": null,
   "id": "4ba53581",
   "metadata": {},
   "outputs": [],
   "source": []
  }
 ],
 "metadata": {
  "kernelspec": {
   "display_name": "Python 3",
   "language": "python",
   "name": "python3"
  },
  "language_info": {
   "codemirror_mode": {
    "name": "ipython",
    "version": 3
   },
   "file_extension": ".py",
   "mimetype": "text/x-python",
   "name": "python",
   "nbconvert_exporter": "python",
   "pygments_lexer": "ipython3",
   "version": "3.7.10"
  }
 },
 "nbformat": 4,
 "nbformat_minor": 5
}
