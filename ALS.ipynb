{
 "cells": [
  {
   "cell_type": "markdown",
   "id": "1d623d99",
   "metadata": {},
   "source": [
    "# ALS Model for Movie Recommendation\n",
    "\n",
    "The code referenced the some of the code on Spark official cite: https://spark.apache.org/docs/latest/api/python/reference/api/pyspark.mllib.recommendation.ALS.html"
   ]
  },
  {
   "cell_type": "code",
   "execution_count": 1,
   "id": "d906901c",
   "metadata": {},
   "outputs": [],
   "source": [
    "import os\n",
    "import pyspark\n",
    "from pyspark.sql.types import StructType,StructField, StringType, IntegerType, DoubleType\n",
    "from pyspark.sql import SparkSession\n",
    "from pyspark.sql.functions import col, concat, lit\n",
    "from pyspark.sql.functions import udf\n",
    "from pyspark.sql.types import *"
   ]
  },
  {
   "cell_type": "code",
   "execution_count": 2,
   "id": "7833aa53",
   "metadata": {},
   "outputs": [],
   "source": [
    "'''ALS'''\n",
    "from pyspark.ml.evaluation import RegressionEvaluator\n",
    "from pyspark.ml.recommendation import ALS\n",
    "from pyspark.sql import Row"
   ]
  },
  {
   "cell_type": "code",
   "execution_count": 3,
   "id": "74d45db8",
   "metadata": {},
   "outputs": [],
   "source": [
    "'''Report'''\n",
    "import matplotlib.pyplot as plt\n",
    "import numpy as np"
   ]
  },
  {
   "cell_type": "code",
   "execution_count": 4,
   "id": "230920a6",
   "metadata": {},
   "outputs": [],
   "source": [
    "'''Pandas'''\n",
    "import pandas as pd"
   ]
  },
  {
   "cell_type": "code",
   "execution_count": 5,
   "id": "f69bb4df",
   "metadata": {},
   "outputs": [],
   "source": [
    "'''\n",
    "global paths\n",
    "'''\n",
    "datasets_path = os.path.join('..','movie_recommendation_system', 'datasets')\n",
    "complete_ratings_file = os.path.join(datasets_path, 'ml-latest', 'ratings.csv')\n",
    "tags_file = os.path.join(datasets_path, 'ml-latest', 'tags.csv')\n",
    "links_file = os.path.join(datasets_path, 'ml-latest','links.csv')\n",
    "movies_file = os.path.join(datasets_path, 'ml-latest', 'movies.csv')"
   ]
  },
  {
   "cell_type": "code",
   "execution_count": 6,
   "id": "06467713",
   "metadata": {},
   "outputs": [],
   "source": [
    "'''\n",
    "load pyspark\n",
    "'''\n",
    "spark = SparkSession.builder.getOrCreate()\n",
    "sc = spark.sparkContext\n",
    "spark = SparkSession.builder.appName(\"Spark_Processor\").config(\"spark.redis.port\", \"6379\").config(\"spark.jars\", \"spark-redis-branch-2.4/target/spark-redis_2.11-2.5.0-SNAPSHOT-jar-with-dependencies.jar\").getOrCreate()\n",
    "conf = pyspark.SparkConf()\n",
    "sc = spark.sparkContext"
   ]
  },
  {
   "cell_type": "code",
   "execution_count": 7,
   "id": "5ae0f641",
   "metadata": {},
   "outputs": [],
   "source": [
    "def sample_rating():\n",
    "    ratingschema = StructType()\\\n",
    "    .add(\"userId\", IntegerType(), True)\\\n",
    "    .add(\"movieId\", IntegerType(), True)\\\n",
    "    .add(\"rating\", DoubleType(), True)\\\n",
    "    .add(\"timeStamp\", IntegerType(), True)\n",
    "    ratingdf = spark.read.format(\"csv\")\\\n",
    "    .option(\"header\",True)\\\n",
    "    .schema(ratingschema)\\\n",
    "    .load(complete_ratings_file)\n",
    "    ratingforals = ratingdf.drop(\"timeStamp\")\n",
    "    (training, test) = ratingforals.randomSplit([0.6, 0.4])\n",
    "    return training, test"
   ]
  },
  {
   "cell_type": "code",
   "execution_count": 8,
   "id": "b2600c70",
   "metadata": {},
   "outputs": [],
   "source": [
    "def sample_movie():\n",
    "    movie = spark.read.option(\"inferSchema\", \"true\")\\\n",
    "    .option(\"header\", \"true\").csv(movies_file)\n",
    "    return movie"
   ]
  },
  {
   "cell_type": "code",
   "execution_count": 9,
   "id": "3acb9077",
   "metadata": {},
   "outputs": [],
   "source": [
    "class ALS_Model:\n",
    "    '''\n",
    "    data: rating dataframe\n",
    "    '''\n",
    "    def __init__(self, data):\n",
    "        self.als = ALS(maxIter=3, rank = 50, regParam=0.01, userCol=\"userId\", itemCol=\"movieId\", ratingCol=\"rating\", coldStartStrategy=\"drop\")\n",
    "        self.ratingforals = data.drop(\"timeStamp\")\n",
    "        self.model = self.als.fit(self.ratingforals)\n",
    "        #self.prediction = self.model.transform(self.ratingforals) #without transform\n",
    "    '''\n",
    "    get a recommendation for a user\n",
    "    \n",
    "    userId: integer value for a user id\n",
    "    result: recommendedMovieID: list of movie ID that a userID gets recommended\n",
    "    '''\n",
    "    def recommendForUser(self, userId):\n",
    "        user = self.ratingforals.select(\"userId\").distinct().filter(self.ratingforals.userId == userId)\n",
    "        userSubsetRecs = self.model.recommendForUserSubset(user, 10)\n",
    "        recommendations = list(userSubsetRecs.select('recommendations').toPandas()['recommendations'])\n",
    "        recommendations = recommendations[0]\n",
    "        recommendedMovieID = []\n",
    "        for row in recommendations:\n",
    "            recommendedMovieID.append(row[0])\n",
    "        return recommendedMovieID\n",
    "    '''\n",
    "    show ALS model's prediction on given \"testData\"\n",
    "    '''\n",
    "    def predictData(self, testData):\n",
    "        self.test = testData\n",
    "        self.predictions = self.model.transform(testData)\n",
    "        self.predictions.show()\n",
    "        return self.predictions\n",
    "    def recommendForMovie(self, movieId):\n",
    "        movie = self.ratingforals.select(\"movieId\").distinct().filter(self.ratingforals.movieId == movieId)\n",
    "        movieSubSetRecs = self.model.recommendForItemSubset(movie, 1) #pick only one user\n",
    "        return movieSubSetRecs"
   ]
  },
  {
   "cell_type": "code",
   "execution_count": 10,
   "id": "59b1c008",
   "metadata": {},
   "outputs": [],
   "source": [
    "class MovieListConverter:\n",
    "    def __init__(self, data):\n",
    "        self.movie = data\n",
    "    '''\n",
    "    input: recommendedList - it convert recommendedList with only MovieID\n",
    "    output: df is a dataframe which includes movie information in recommended list\n",
    "    '''\n",
    "    def dataFrameWithGenre(self, recommendedList):\n",
    "        recommendedMovies = []\n",
    "        for r in recommendedList:\n",
    "            recommendedMovies.append(self.movie.filter(self.movie.movieId == r)) #append each row\n",
    "        df = recommendedMovies[0]\n",
    "        for r in range(1, len(recommendedMovies)):\n",
    "            df = df.union(recommendedMovies[r])\n",
    "        return df"
   ]
  },
  {
   "cell_type": "code",
   "execution_count": 11,
   "id": "653e690f",
   "metadata": {},
   "outputs": [],
   "source": [
    "training, test = sample_rating()\n",
    "movies = sample_movie()\n",
    "demo = ALS_Model(training)\n",
    "mlc = MovieListConverter(movies)"
   ]
  },
  {
   "cell_type": "code",
   "execution_count": 13,
   "id": "f6d880dc",
   "metadata": {},
   "outputs": [
    {
     "name": "stdout",
     "output_type": "stream",
     "text": [
      "+------+-------+------+----------+\n",
      "|userId|movieId|rating|prediction|\n",
      "+------+-------+------+----------+\n",
      "|124207|    148|   3.0|  2.094536|\n",
      "| 33354|    148|   3.0| 3.9921465|\n",
      "| 47989|    148|   2.0| 3.0886724|\n",
      "| 33138|    148|   2.5| 2.9721472|\n",
      "|151614|    148|   1.0| 2.9286914|\n",
      "| 38679|    148|   3.0| 3.3624716|\n",
      "| 51474|    148|   4.0| 3.1495667|\n",
      "| 99684|    148|   3.0| 3.0141613|\n",
      "| 29943|    148|   3.0| 2.6675828|\n",
      "|117168|    148|   4.0| 3.7084646|\n",
      "|  3411|    148|   3.0| 2.6590517|\n",
      "|  6491|    148|   4.0| 3.0579042|\n",
      "|147301|    148|   3.0| 3.0709743|\n",
      "|111567|    148|   3.0| 2.5394266|\n",
      "| 66907|    148|   4.0| 3.4448562|\n",
      "|104930|    148|   3.0| 3.4370937|\n",
      "| 98520|    148|   4.0|  3.128136|\n",
      "| 73827|    148|   4.0| 1.9463071|\n",
      "|145182|    148|   3.0|   2.69883|\n",
      "| 69123|    148|   4.5| 2.3100836|\n",
      "+------+-------+------+----------+\n",
      "only showing top 20 rows\n",
      "\n"
     ]
    }
   ],
   "source": [
    "prediction = demo.predictData(test)"
   ]
  },
  {
   "cell_type": "code",
   "execution_count": 14,
   "id": "513681b5",
   "metadata": {},
   "outputs": [
    {
     "name": "stdout",
     "output_type": "stream",
     "text": [
      "+------+-------+------+----------+\n",
      "|userId|movieId|rating|prediction|\n",
      "+------+-------+------+----------+\n",
      "|124207|    148|   3.0|  2.094536|\n",
      "| 33354|    148|   3.0| 3.9921465|\n",
      "| 47989|    148|   2.0| 3.0886724|\n",
      "| 33138|    148|   2.5| 2.9721472|\n",
      "|151614|    148|   1.0| 2.9286914|\n",
      "| 38679|    148|   3.0| 3.3624716|\n",
      "| 51474|    148|   4.0| 3.1495667|\n",
      "| 99684|    148|   3.0| 3.0141613|\n",
      "| 29943|    148|   3.0| 2.6675828|\n",
      "|117168|    148|   4.0| 3.7084646|\n",
      "|  3411|    148|   3.0| 2.6590517|\n",
      "|  6491|    148|   4.0| 3.0579042|\n",
      "|147301|    148|   3.0| 3.0709743|\n",
      "|111567|    148|   3.0| 2.5394266|\n",
      "| 66907|    148|   4.0| 3.4448562|\n",
      "|104930|    148|   3.0| 3.4370937|\n",
      "| 98520|    148|   4.0|  3.128136|\n",
      "| 73827|    148|   4.0| 1.9463071|\n",
      "|145182|    148|   3.0|   2.69883|\n",
      "| 69123|    148|   4.5| 2.3100836|\n",
      "|160836|    148|   2.0| 4.0306425|\n",
      "| 49403|    148|   2.0|  1.457655|\n",
      "| 98294|    148|   5.0|  4.389763|\n",
      "|131314|    148|   3.5| 2.8344681|\n",
      "| 25664|    148|   3.0|  2.987252|\n",
      "| 64994|    148|   1.0| 2.4344783|\n",
      "| 66358|    148|   3.5|  4.089114|\n",
      "| 81091|    148|   1.0| 2.3210263|\n",
      "| 84667|    148|   5.0| 4.0267224|\n",
      "|132310|    148|   3.0| 1.8908178|\n",
      "|138573|    148|   3.0| 2.9930463|\n",
      "|115912|    148|   3.0| 2.8110464|\n",
      "|138552|    148|   4.0| 3.6999934|\n",
      "| 70733|    148|   1.0| 3.7488353|\n",
      "| 65981|    148|   3.5| 3.7413635|\n",
      "| 73078|    148|   1.0| 3.9420495|\n",
      "| 73925|    148|   2.5|   4.52332|\n",
      "| 88277|    148|   2.0| 3.5534232|\n",
      "|110863|    148|   3.0| 0.8428475|\n",
      "| 12836|    148|   5.0| 5.0157638|\n",
      "| 58005|    148|   3.0| 1.9716672|\n",
      "| 50403|    148|   3.0| 3.4989448|\n",
      "| 61529|    148|   3.0| 3.9241185|\n",
      "|113832|    148|   4.0| 3.1023738|\n",
      "| 96892|    148|   2.0| 3.6316924|\n",
      "| 50289|    148|   1.0| 2.5763614|\n",
      "| 74016|    148|   4.0| 1.9772996|\n",
      "|  4296|    148|   3.0|  4.008401|\n",
      "| 13091|    148|   3.0| 3.4977531|\n",
      "|105793|    148|   2.0| 2.3756568|\n",
      "| 38231|    148|   3.0| 1.7208655|\n",
      "| 78472|    148|   4.0| 3.8633444|\n",
      "| 18628|    148|   2.0| 2.9993932|\n",
      "| 64415|    148|   3.0| 3.2850351|\n",
      "|162507|    148|   2.0| 2.1122897|\n",
      "| 63786|    148|   5.0|  2.214393|\n",
      "| 72315|    148|   3.0| 2.0844429|\n",
      "| 79677|    148|   3.0| 3.1028078|\n",
      "| 48417|    148|   3.0| 4.0349116|\n",
      "| 65370|    148|   1.0| 4.1325583|\n",
      "| 68262|    148|   4.0| 3.4821389|\n",
      "|137835|    148|   4.0| 3.5850506|\n",
      "|100318|    148|   4.0| 2.6441767|\n",
      "|154493|    148|   3.0| 2.7441604|\n",
      "|138697|    148|   2.0| 2.9643543|\n",
      "| 58703|    148|   3.0|  3.590746|\n",
      "|116263|    148|   5.0| 4.4848256|\n",
      "|126576|    148|   4.0| 3.1646812|\n",
      "| 83094|    148|   3.0| 2.1813383|\n",
      "| 83961|    148|   4.0| 3.4917576|\n",
      "|146438|    148|   2.0| 3.7346818|\n",
      "| 90607|    148|   1.0| 2.3088865|\n",
      "|106580|    148|   4.0| 4.6361685|\n",
      "|118962|    148|   3.0| 4.3064833|\n",
      "| 45511|    148|   3.0| 2.6452935|\n",
      "| 81784|    148|   5.0|  2.736143|\n",
      "|101194|    148|   2.0| 4.2210407|\n",
      "|106503|    148|   4.0| 2.8583195|\n",
      "|141101|    148|   4.0| 2.8433826|\n",
      "| 53837|    148|   2.0| 2.7393303|\n",
      "| 20528|    148|   3.0| 4.7475667|\n",
      "|  4282|    148|   2.0| 3.4932592|\n",
      "|161658|    148|   3.0|  4.356582|\n",
      "|112041|    148|   5.0|   5.06987|\n",
      "| 76589|    148|   3.0| 4.2833257|\n",
      "|123629|    148|   3.0| 4.3168316|\n",
      "|  5177|    148|   2.0| 3.7346704|\n",
      "| 49088|    148|   3.5| 2.8944552|\n",
      "|107249|    148|   4.0| 2.8888385|\n",
      "| 99932|    148|   4.0| 3.9083214|\n",
      "|143361|    148|   3.0|  3.347994|\n",
      "| 76884|    148|   2.0| 1.7218376|\n",
      "|107903|    148|   2.0| 1.6190115|\n",
      "|155204|    148|   3.0| 3.8115704|\n",
      "|136364|    148|   4.0| 4.5680733|\n",
      "|117318|    148|   4.0| 3.0941198|\n",
      "|111311|    148|   2.0| 2.0781803|\n",
      "| 67192|    148|   1.5| 2.7792988|\n",
      "| 63951|    148|   1.0|  0.381198|\n",
      "| 11515|    148|   3.0| 4.3788533|\n",
      "+------+-------+------+----------+\n",
      "only showing top 100 rows\n",
      "\n"
     ]
    }
   ],
   "source": [
    "prediction.show(100)"
   ]
  },
  {
   "cell_type": "code",
   "execution_count": 61,
   "id": "4dad0ff7",
   "metadata": {},
   "outputs": [],
   "source": [
    "'''evaluate rmse from lower rank to upper rank'''\n",
    "def rank_rmse(lower, upper):\n",
    "    data = sample_rating()\n",
    "    ratingforals = data.drop(\"timeStamp\")\n",
    "    (training, test) = ratingforals.randomSplit([0.8, 0.2])\n",
    "    result = []\n",
    "    for r in range(lower,upper, 10):\n",
    "        als = ALS(maxIter=3, rank = r, regParam=0.01, userCol=\"userId\", itemCol=\"movieId\", ratingCol=\"rating\", \n",
    "          coldStartStrategy=\"drop\")\n",
    "        model = als.fit(training)\n",
    "        predictions = model.transform(test)\n",
    "        evaluator = RegressionEvaluator(metricName=\"rmse\", labelCol=\"rating\",\n",
    "                                predictionCol=\"prediction\")\n",
    "        result.append(evaluator.evaluate(predictions))\n",
    "    return result"
   ]
  },
  {
   "cell_type": "code",
   "execution_count": 66,
   "id": "0c74b65e",
   "metadata": {},
   "outputs": [
    {
     "data": {
      "image/png": "[encoded data removed]",
      "text/plain": [
       "<Figure size 432x288 with 1 Axes>"
      ]
     },
     "metadata": {
      "needs_background": "light"
     },
     "output_type": "display_data"
    }
   ],
   "source": [
    "''' Report : test rank from 10(default) to 50 '''\n",
    "rank_list = list(range(50, 9, -10))\n",
    "rmse_list = rank_rmse(10, 51)\n",
    "plt.plot(rank_list, rmse_list)\n",
    "plt.show()"
   ]
  },
  {
   "cell_type": "code",
   "execution_count": 42,
   "id": "e1cb4e16",
   "metadata": {},
   "outputs": [],
   "source": [
    "class Comparison:\n",
    "    def __init__(self, data, movies, als, mlc):\n",
    "        self.ratingJoined = data.join(movies, data.movieId ==  movies.movieId, \"inner\")\n",
    "        self.data = data\n",
    "        self.movie = movies\n",
    "        self.als = als\n",
    "        self.mlc = mlc\n",
    "    def printRatingsofUser(self, userId):\n",
    "        self.ratingJoined.filter(self.ratingJoined.userId == userId).show(truncate = False)\n",
    "    def printRecommendedMovies(self, userId):\n",
    "        recommendedDF = self.mlc.dataFrameWithGenre(self.als.recommendForUser(userId))\n",
    "        recommendedDF.show(truncate = False)\n",
    "        return recommendedDF\n",
    "    def printRatingandRecommended(self, userId):\n",
    "        self.printRatingsofUser(userId)\n",
    "        self.printRecommendedMovies(userId)"
   ]
  },
  {
   "cell_type": "code",
   "execution_count": 43,
   "id": "929644a6",
   "metadata": {},
   "outputs": [],
   "source": [
    "cmp = Comparison(data, movies, demo, mlc)"
   ]
  },
  {
   "cell_type": "code",
   "execution_count": 44,
   "id": "a2825be4",
   "metadata": {},
   "outputs": [
    {
     "name": "stdout",
     "output_type": "stream",
     "text": [
      "+-------+--------------------+\n",
      "|movieId|     recommendations|\n",
      "+-------+--------------------+\n",
      "|   1721|[[156162, 6.693886]]|\n",
      "+-------+--------------------+\n",
      "\n"
     ]
    }
   ],
   "source": [
    "titanic = demo.recommendForMovie(1721) #1721 is Titanic #previous 150441\n",
    "titanic.show()"
   ]
  },
  {
   "cell_type": "code",
   "execution_count": 45,
   "id": "e0fe252b",
   "metadata": {},
   "outputs": [
    {
     "name": "stdout",
     "output_type": "stream",
     "text": [
      "+------+-------+------+-------+---------------------------------------------+---------------------------------------------------+\n",
      "|userId|movieId|rating|movieId|title                                        |genres                                             |\n",
      "+------+-------+------+-------+---------------------------------------------+---------------------------------------------------+\n",
      "|156162|356    |5.0   |356    |Forrest Gump (1994)                          |Comedy|Drama|Romance|War                           |\n",
      "|156162|1270   |4.0   |1270   |Back to the Future (1985)                    |Adventure|Comedy|Sci-Fi                            |\n",
      "|156162|1876   |4.0   |1876   |Deep Impact (1998)                           |Drama|Sci-Fi|Thriller                              |\n",
      "|156162|2080   |4.0   |2080   |Lady and the Tramp (1955)                    |Animation|Children|Comedy|Romance                  |\n",
      "|156162|2571   |5.0   |2571   |Matrix, The (1999)                           |Action|Sci-Fi|Thriller                             |\n",
      "|156162|4306   |5.0   |4306   |Shrek (2001)                                 |Adventure|Animation|Children|Comedy|Fantasy|Romance|\n",
      "|156162|4700   |3.0   |4700   |Princess Diaries, The (2001)                 |Children|Comedy|Romance                            |\n",
      "|156162|5952   |5.0   |5952   |Lord of the Rings: The Two Towers, The (2002)|Adventure|Fantasy                                  |\n",
      "|156162|5989   |5.0   |5989   |Catch Me If You Can (2002)                   |Crime|Drama                                        |\n",
      "|156162|7254   |4.5   |7254   |The Butterfly Effect (2004)                  |Drama|Sci-Fi|Thriller                              |\n",
      "|156162|8360   |4.0   |8360   |Shrek 2 (2004)                               |Adventure|Animation|Children|Comedy|Musical|Romance|\n",
      "|156162|45517  |5.0   |45517  |Cars (2006)                                  |Animation|Children|Comedy                          |\n",
      "|156162|45880  |3.0   |45880  |Marie Antoinette (2006)                      |Drama|Romance                                      |\n",
      "|156162|46578  |5.0   |46578  |Little Miss Sunshine (2006)                  |Adventure|Comedy|Drama                             |\n",
      "|156162|49272  |4.0   |49272  |Casino Royale (2006)                         |Action|Adventure|Thriller                          |\n",
      "|156162|52458  |3.0   |52458  |Disturbia (2007)                             |Drama|Thriller                                     |\n",
      "|156162|53996  |3.5   |53996  |Transformers (2007)                          |Action|Sci-Fi|Thriller|IMAX                        |\n",
      "|156162|56174  |1.0   |56174  |I Am Legend (2007)                           |Action|Horror|Sci-Fi|Thriller|IMAX                 |\n",
      "|156162|59784  |2.5   |59784  |Kung Fu Panda (2008)                         |Action|Animation|Children|Comedy|IMAX              |\n",
      "|156162|68157  |3.0   |68157  |Inglourious Basterds (2009)                  |Action|Drama|War                                   |\n",
      "+------+-------+------+-------+---------------------------------------------+---------------------------------------------------+\n",
      "only showing top 20 rows\n",
      "\n",
      "+-------+--------------------------------------------------+----------------------+\n",
      "|movieId|title                                             |genres                |\n",
      "+-------+--------------------------------------------------+----------------------+\n",
      "|26368  |Marquise of O, The (Marquise von O..., Die) (1976)|Drama                 |\n",
      "|183869 |Hereditary (2018)                                 |(no genres listed)    |\n",
      "|116951 |Bo Burnham: what. (2013)                          |Comedy                |\n",
      "|177523 |El mar la mar (2017)                              |(no genres listed)    |\n",
      "|143452 |El pico 2 (1984)                                  |Drama                 |\n",
      "|200662 |Silencio (2018)                                   |Drama|Mystery|Thriller|\n",
      "|193972 |Two for Joy (2018)                                |Drama                 |\n",
      "|147202 |Beauties of the Night (1952)                      |Comedy|Fantasy|Romance|\n",
      "|82420  |Pray the Devil Back to Hell (2008)                |Documentary           |\n",
      "|103112 |Perfumed Nightmare (1977)                         |Comedy|Drama          |\n",
      "+-------+--------------------------------------------------+----------------------+\n",
      "\n"
     ]
    }
   ],
   "source": [
    "cmp.printRatingandRecommended(156162)"
   ]
  },
  {
   "cell_type": "code",
   "execution_count": 47,
   "id": "7958849b",
   "metadata": {},
   "outputs": [
    {
     "name": "stdout",
     "output_type": "stream",
     "text": [
      "+------+-------+------+\n",
      "|userId|movieId|rating|\n",
      "+------+-------+------+\n",
      "| 55101| 115929|   4.0|\n",
      "|111307| 115929|   4.0|\n",
      "+------+-------+------+\n",
      "\n"
     ]
    }
   ],
   "source": [
    "data.filter(data.movieId == 115929).show() #1721"
   ]
  },
  {
   "cell_type": "code",
   "execution_count": 48,
   "id": "341335c3",
   "metadata": {},
   "outputs": [
    {
     "name": "stdout",
     "output_type": "stream",
     "text": [
      "+-------+--------------------+\n",
      "|movieId|recommendations     |\n",
      "+-------+--------------------+\n",
      "|115929 |[[104487, 5.383696]]|\n",
      "+-------+--------------------+\n",
      "\n"
     ]
    }
   ],
   "source": [
    "nun = demo.recommendForMovie(115929) # 134603 is \"The Nun\"\n",
    "nun.show(truncate = False)"
   ]
  },
  {
   "cell_type": "code",
   "execution_count": 49,
   "id": "c2b953b8",
   "metadata": {},
   "outputs": [
    {
     "name": "stdout",
     "output_type": "stream",
     "text": [
      "+------+-------+------+-------+---------------------------------------------------------+-----------------------------------+\n",
      "|userId|movieId|rating|movieId|title                                                    |genres                             |\n",
      "+------+-------+------+-------+---------------------------------------------------------+-----------------------------------+\n",
      "|104487|216    |3.0   |216    |Billy Madison (1995)                                     |Comedy                             |\n",
      "|104487|260    |5.0   |260    |Star Wars: Episode IV - A New Hope (1977)                |Action|Adventure|Sci-Fi            |\n",
      "|104487|589    |5.0   |589    |Terminator 2: Judgment Day (1991)                        |Action|Sci-Fi                      |\n",
      "|104487|780    |3.0   |780    |Independence Day (a.k.a. ID4) (1996)                     |Action|Adventure|Sci-Fi|Thriller   |\n",
      "|104487|2571   |5.0   |2571   |Matrix, The (1999)                                       |Action|Sci-Fi|Thriller             |\n",
      "|104487|2694   |5.0   |2694   |Big Daddy (1999)                                         |Comedy                             |\n",
      "|104487|4232   |5.0   |4232   |Spy Kids (2001)                                          |Action|Adventure|Children|Comedy   |\n",
      "|104487|4993   |5.0   |4993   |Lord of the Rings: The Fellowship of the Ring, The (2001)|Adventure|Fantasy                  |\n",
      "|104487|5349   |5.0   |5349   |Spider-Man (2002)                                        |Action|Adventure|Sci-Fi|Thriller   |\n",
      "|104487|5816   |5.0   |5816   |Harry Potter and the Chamber of Secrets (2002)           |Adventure|Fantasy                  |\n",
      "|104487|6333   |5.0   |6333   |X2: X-Men United (2003)                                  |Action|Adventure|Sci-Fi|Thriller   |\n",
      "|104487|7254   |5.0   |7254   |The Butterfly Effect (2004)                              |Drama|Sci-Fi|Thriller              |\n",
      "|104487|7346   |2.5   |7346   |Girl Next Door, The (2004)                               |Comedy|Romance                     |\n",
      "|104487|7438   |3.5   |7438   |Kill Bill: Vol. 2 (2004)                                 |Action|Drama|Thriller              |\n",
      "|104487|33615  |5.0   |33615  |Madagascar (2005)                                        |Adventure|Animation|Children|Comedy|\n",
      "|104487|33794  |5.0   |33794  |Batman Begins (2005)                                     |Action|Crime|IMAX                  |\n",
      "|104487|47099  |2.0   |47099  |Pursuit of Happyness, The (2006)                         |Drama                              |\n",
      "|104487|67534  |5.0   |67534  |Big Stan (2007)                                          |Comedy                             |\n",
      "|104487|68954  |3.5   |68954  |Up (2009)                                                |Adventure|Animation|Children|Drama |\n",
      "|104487|74530  |3.0   |74530  |Percy Jackson & the Olympians: The Lightning Thief (2010)|Adventure|Fantasy                  |\n",
      "+------+-------+------+-------+---------------------------------------------------------+-----------------------------------+\n",
      "only showing top 20 rows\n",
      "\n",
      "+-------+----------------------------------+----------------------------------+\n",
      "|movieId|title                             |genres                            |\n",
      "+-------+----------------------------------+----------------------------------+\n",
      "|195671 |An Elephant Sitting Still (2018)  |Drama                             |\n",
      "|182483 |Love & Saucers (2017)             |Documentary|Mystery|Romance|Sci-Fi|\n",
      "|160183 |The Art of Organized Noize (2016) |Documentary                       |\n",
      "|193972 |Two for Joy (2018)                |Drama                             |\n",
      "|143452 |El pico 2 (1984)                  |Drama                             |\n",
      "|103112 |Perfumed Nightmare (1977)         |Comedy|Drama                      |\n",
      "|147202 |Beauties of the Night (1952)      |Comedy|Fantasy|Romance            |\n",
      "|200662 |Silencio (2018)                   |Drama|Mystery|Thriller            |\n",
      "|82420  |Pray the Devil Back to Hell (2008)|Documentary                       |\n",
      "|177523 |El mar la mar (2017)              |(no genres listed)                |\n",
      "+-------+----------------------------------+----------------------------------+\n",
      "\n"
     ]
    }
   ],
   "source": [
    "cmp.printRatingandRecommended(104487)"
   ]
  },
  {
   "cell_type": "code",
   "execution_count": null,
   "id": "38ce07a2",
   "metadata": {},
   "outputs": [],
   "source": [
    "#115929 barbie"
   ]
  },
  {
   "cell_type": "code",
   "execution_count": null,
   "id": "a028d673",
   "metadata": {},
   "outputs": [],
   "source": [
    "theIronMan = demo.recommendForMovie(194228) # 194228 is \"The Iron Man\"\n",
    "theIronMan.show()"
   ]
  },
  {
   "cell_type": "code",
   "execution_count": null,
   "id": "743e9a79",
   "metadata": {},
   "outputs": [],
   "source": [
    "recommendation = demo.recommendForUser(1)\n",
    "recommendedDF = mlc.dataFrameWithGenre(recommendation)\n",
    "recommendedDF.show()"
   ]
  },
  {
   "cell_type": "code",
   "execution_count": 17,
   "id": "0cb9f180",
   "metadata": {},
   "outputs": [
    {
     "name": "stdout",
     "output_type": "stream",
     "text": [
      "+------+-------+------+-------+--------------------+--------------------+\n",
      "|userId|movieId|rating|movieId|               title|              genres|\n",
      "+------+-------+------+-------+--------------------+--------------------+\n",
      "|     1|    306|   3.5|    306|Three Colors: Red...|               Drama|\n",
      "|     1|    307|   5.0|    307|Three Colors: Blu...|               Drama|\n",
      "|     1|    665|   5.0|    665|  Underground (1995)|    Comedy|Drama|War|\n",
      "|     1|   1217|   3.5|   1217|          Ran (1985)|           Drama|War|\n",
      "|     1|   2351|   4.5|   2351|Nights of Cabiria...|               Drama|\n",
      "|     1|   5878|   4.0|   5878|Talk to Her (Habl...|       Drama|Romance|\n",
      "|     1|   6016|   5.0|   6016|City of God (Cida...|Action|Adventure|...|\n",
      "|     1|   6954|   3.5|   6954|Barbarian Invasio...|Comedy|Crime|Dram...|\n",
      "|     1|   7209|   4.0|   7209|M. Hulot’s Holida...|              Comedy|\n",
      "|     1|   8729|   3.5|   8729|Swann in Love (Un...|               Drama|\n",
      "|     1|   8973|   4.0|   8973|Bad Education (La...|      Drama|Thriller|\n",
      "|     1|  27193|   3.0|  27193|       Taxi 2 (2000)|       Action|Comedy|\n",
      "|     1|  27721|   3.0|  27721|Very Long Engagem...|Drama|Mystery|Rom...|\n",
      "|     2|     62|   0.5|     62|Mr. Holland's Opu...|               Drama|\n",
      "|     2|    318|   5.0|    318|Shawshank Redempt...|         Crime|Drama|\n",
      "|     2|    380|   1.0|    380|    True Lies (1994)|Action|Adventure|...|\n",
      "|     2|    480|   2.0|    480|Jurassic Park (1993)|Action|Adventure|...|\n",
      "|     2|    589|   4.0|    589|Terminator 2: Jud...|       Action|Sci-Fi|\n",
      "|     2|    858|   3.5|    858|Godfather, The (1...|         Crime|Drama|\n",
      "|     2|    914|   4.0|    914| My Fair Lady (1964)|Comedy|Drama|Musi...|\n",
      "+------+-------+------+-------+--------------------+--------------------+\n",
      "only showing top 20 rows\n",
      "\n"
     ]
    }
   ],
   "source": [
    "\n",
    "ratingJoined.show()"
   ]
  },
  {
   "cell_type": "code",
   "execution_count": 108,
   "id": "e16ad3df",
   "metadata": {},
   "outputs": [
    {
     "name": "stdout",
     "output_type": "stream",
     "text": [
      "+------+-------+------+-------+------------------------------------------------------------------------------+---------------------------------------------------------+\n",
      "|userId|movieId|rating|movieId|title                                                                         |genres                                                   |\n",
      "+------+-------+------+-------+------------------------------------------------------------------------------+---------------------------------------------------------+\n",
      "|2     |110    |5.0   |110    |Braveheart (1995)                                                             |Action|Drama|War                                         |\n",
      "|2     |261    |0.5   |261    |Little Women (1994)                                                           |Drama                                                    |\n",
      "|2     |333    |5.0   |333    |Tommy Boy (1995)                                                              |Comedy                                                   |\n",
      "|2     |457    |5.0   |457    |Fugitive, The (1993)                                                          |Thriller                                                 |\n",
      "|2     |553    |2.0   |553    |Tombstone (1993)                                                              |Action|Drama|Western                                     |\n",
      "|2     |858    |3.5   |858    |Godfather, The (1972)                                                         |Crime|Drama                                              |\n",
      "|2     |1136   |5.0   |1136   |Monty Python and the Holy Grail (1975)                                        |Adventure|Comedy|Fantasy                                 |\n",
      "|2     |1198   |4.0   |1198   |Raiders of the Lost Ark (Indiana Jones and the Raiders of the Lost Ark) (1981)|Action|Adventure                                         |\n",
      "|2     |1275   |4.5   |1275   |Highlander (1986)                                                             |Action|Adventure|Fantasy                                 |\n",
      "|2     |1299   |1.0   |1299   |Killing Fields, The (1984)                                                    |Drama|War                                                |\n",
      "|2     |1374   |4.5   |1374   |Star Trek II: The Wrath of Khan (1982)                                        |Action|Adventure|Sci-Fi|Thriller                         |\n",
      "|2     |1485   |3.0   |1485   |Liar Liar (1997)                                                              |Comedy                                                   |\n",
      "|2     |1587   |1.0   |1587   |Conan the Barbarian (1982)                                                    |Action|Adventure|Fantasy                                 |\n",
      "|2     |1682   |4.5   |1682   |Truman Show, The (1998)                                                       |Comedy|Drama|Sci-Fi                                      |\n",
      "|2     |1907   |4.0   |1907   |Mulan (1998)                                                                  |Adventure|Animation|Children|Comedy|Drama|Musical|Romance|\n",
      "|2     |1957   |3.5   |1957   |Chariots of Fire (1981)                                                       |Drama                                                    |\n",
      "|2     |2028   |4.0   |2028   |Saving Private Ryan (1998)                                                    |Action|Drama|War                                         |\n",
      "|2     |2081   |1.5   |2081   |Little Mermaid, The (1989)                                                    |Animation|Children|Comedy|Musical|Romance                |\n",
      "|2     |2268   |4.5   |2268   |Few Good Men, A (1992)                                                        |Crime|Drama|Thriller                                     |\n",
      "|2     |2470   |5.0   |2470   |Crocodile Dundee (1986)                                                       |Adventure|Comedy                                         |\n",
      "+------+-------+------+-------+------------------------------------------------------------------------------+---------------------------------------------------------+\n",
      "only showing top 20 rows\n",
      "\n"
     ]
    },
    {
     "data": {
      "text/plain": [
       "'\\nuserID == 2 has low rating \\n'"
      ]
     },
     "execution_count": 108,
     "metadata": {},
     "output_type": "execute_result"
    }
   ],
   "source": [
    "userId2 = ratingJoined.filter(ratingJoined.userId == 2).show(truncate = False)"
   ]
  },
  {
   "cell_type": "code",
   "execution_count": 20,
   "id": "7fa1df0b",
   "metadata": {},
   "outputs": [
    {
     "name": "stdout",
     "output_type": "stream",
     "text": [
      "+-------+-------------------------------------------------+--------------------------+\n",
      "|movieId|title                                            |genres                    |\n",
      "+-------+-------------------------------------------------+--------------------------+\n",
      "|87915  |Mondo Trasho (1969)                              |Comedy                    |\n",
      "|8777   |Roadkill (a.k.a. Roadkill: Move or Die) (1989)   |Drama                     |\n",
      "|51372  |\"\"\"Great Performances\"\" Cats (1998)\"             |Musical                   |\n",
      "|26225  |Claire's Knee (Genou de Claire, Le) (1970)       |Comedy|Romance            |\n",
      "|93265  |Courageous (2011)                                |Drama                     |\n",
      "|5825   |Life and Death of Colonel Blimp, The (1943)      |Drama|Romance|War         |\n",
      "|94969  |Kahaani (2012)                                   |Crime|Drama|Thriller      |\n",
      "|6093   |Last Unicorn, The (1982)                         |Animation|Children|Fantasy|\n",
      "|4806   |Shop on Main Street, The (Obchod na korze) (1965)|Drama                     |\n",
      "|26138  |Hill, The (1965)                                 |Drama|War                 |\n",
      "+-------+-------------------------------------------------+--------------------------+\n",
      "\n"
     ]
    }
   ],
   "source": [
    "recommendation2 = demo.recommendForUser(2)\n",
    "recommendedDF2 = mlc.dataFrameWithGenre(recommendation2)\n",
    "recommendedDF2.show(truncate = False)"
   ]
  },
  {
   "cell_type": "code",
   "execution_count": 18,
   "id": "38f96c95",
   "metadata": {},
   "outputs": [
    {
     "name": "stdout",
     "output_type": "stream",
     "text": [
      "+------+-------+------+-------+---------------------------------------------------------+------------------------------------+\n",
      "|userId|movieId|rating|movieId|title                                                    |genres                              |\n",
      "+------+-------+------+-------+---------------------------------------------------------+------------------------------------+\n",
      "|5500  |58559  |5.0   |58559  |Dark Knight, The (2008)                                  |Action|Crime|Drama|IMAX             |\n",
      "|5500  |71033  |3.0   |71033  |Secret in Their Eyes, The (El secreto de sus ojos) (2009)|Crime|Drama|Mystery|Romance|Thriller|\n",
      "|5500  |87304  |3.5   |87304  |Beginners (2010)                                         |Drama                               |\n",
      "|5500  |101525 |4.0   |101525 |Place Beyond the Pines, The (2012)                       |Crime|Drama                         |\n",
      "|5500  |139644 |3.0   |139644 |Sicario (2015)                                           |Crime|Drama|Mystery                 |\n",
      "+------+-------+------+-------+---------------------------------------------------------+------------------------------------+\n",
      "\n"
     ]
    }
   ],
   "source": [
    "ratingJoined.filter(ratingJoined.userId == 5500).show(truncate = False)"
   ]
  },
  {
   "cell_type": "code",
   "execution_count": 19,
   "id": "0ecb3a35",
   "metadata": {},
   "outputs": [
    {
     "name": "stdout",
     "output_type": "stream",
     "text": [
      "+-------+-------------------------------------------------------------+-----------------------+\n",
      "|movieId|title                                                        |genres                 |\n",
      "+-------+-------------------------------------------------------------+-----------------------+\n",
      "|202231 |Foster (2018)                                                |Documentary            |\n",
      "|136485 |Robot Chicken: Star Wars (2007)                              |Animation|Comedy|Sci-Fi|\n",
      "|7936   |Shame (Skammen) (1968)                                       |Drama|War              |\n",
      "|25748  |HE Who Gets Slapped (1924)                                   |Drama|Thriller         |\n",
      "|78629  |Man There Was, A (Terje Vigen) (1917)                        |Drama                  |\n",
      "|9013   |Secret Honor (1984)                                          |Drama                  |\n",
      "|41126  |Clockmaker of St. Paul, The (L'horloger de Saint-Paul) (1974)|Crime|Drama            |\n",
      "|198161 |Mur Murs (1981)                                              |Documentary            |\n",
      "|82196  |Intruder in the Dust (1949)                                  |Drama                  |\n",
      "|173281 |The Wedding Plan (2017)                                      |Comedy|Romance         |\n",
      "+-------+-------------------------------------------------------------+-----------------------+\n",
      "\n"
     ]
    }
   ],
   "source": [
    "recommendation5500 = demo.recommendForUser(5500)\n",
    "recommendedDF5500 = mlc.dataFrameWithGenre(recommendation5500)\n",
    "recommendedDF5500.show(truncate = False)"
   ]
  },
  {
   "cell_type": "code",
   "execution_count": 19,
   "id": "9b3ab269",
   "metadata": {},
   "outputs": [
    {
     "name": "stdout",
     "output_type": "stream",
     "text": [
      "+------+-------+------+-------+--------------------------------------------+------------------------------------------------+\n",
      "|userId|movieId|rating|movieId|title                                       |genres                                          |\n",
      "+------+-------+------+-------+--------------------------------------------+------------------------------------------------+\n",
      "|4000  |296    |5.0   |296    |Pulp Fiction (1994)                         |Comedy|Crime|Drama|Thriller                     |\n",
      "|4000  |5971   |5.0   |5971   |My Neighbor Totoro (Tonari no Totoro) (1988)|Animation|Children|Drama|Fantasy                |\n",
      "|4000  |78499  |5.0   |78499  |Toy Story 3 (2010)                          |Adventure|Animation|Children|Comedy|Fantasy|IMAX|\n",
      "|4000  |109487 |5.0   |109487 |Interstellar (2014)                         |Sci-Fi|IMAX                                     |\n",
      "+------+-------+------+-------+--------------------------------------------+------------------------------------------------+\n",
      "\n",
      "+-------+-----------------------------------------------------------+---------------------+\n",
      "|movieId|title                                                      |genres               |\n",
      "+-------+-----------------------------------------------------------+---------------------+\n",
      "|185659 |Macho Madness - The Randy Savage Ultimate Collection (2009)|(no genres listed)   |\n",
      "|153002 |Celestial Subway Lines/Salvaging Noise (2005)              |Documentary          |\n",
      "|82055  |Devil to Pay!, The (1930)                                  |Comedy|Romance       |\n",
      "|153184 |Vergeef me                                                 |(no genres listed)   |\n",
      "|120292 |Bird People (2014)                                         |Drama|Fantasy|Romance|\n",
      "|79236  |Yumeji (1991)                                              |Drama|Fantasy        |\n",
      "|171011 |Planet Earth II (2016)                                     |Documentary          |\n",
      "|66857  |Marius (1931)                                              |Comedy|Drama|Romance |\n",
      "|97194  |Thing: Terror Takes Shape, The (1998)                      |Documentary          |\n",
      "|103175 |From the East (D'Est) (1993)                               |Documentary          |\n",
      "+-------+-----------------------------------------------------------+---------------------+\n",
      "\n"
     ]
    }
   ],
   "source": [
    "cmp.printRatingandRecommended(4000)"
   ]
  },
  {
   "cell_type": "code",
   "execution_count": 20,
   "id": "ffbdfbaa",
   "metadata": {},
   "outputs": [
    {
     "name": "stdout",
     "output_type": "stream",
     "text": [
      "+------+-------+------+-------+--------------------------------------------------------------+--------------------------------------------------+\n",
      "|userId|movieId|rating|movieId|title                                                         |genres                                            |\n",
      "+------+-------+------+-------+--------------------------------------------------------------+--------------------------------------------------+\n",
      "|6000  |11     |2.5   |11     |American President, The (1995)                                |Comedy|Drama|Romance                              |\n",
      "|6000  |15     |3.0   |15     |Cutthroat Island (1995)                                       |Action|Adventure|Romance                          |\n",
      "|6000  |32     |2.5   |32     |Twelve Monkeys (a.k.a. 12 Monkeys) (1995)                     |Mystery|Sci-Fi|Thriller                           |\n",
      "|6000  |47     |5.0   |47     |Seven (a.k.a. Se7en) (1995)                                   |Mystery|Thriller                                  |\n",
      "|6000  |150    |4.0   |150    |Apollo 13 (1995)                                              |Adventure|Drama|IMAX                              |\n",
      "|6000  |165    |3.0   |165    |Die Hard: With a Vengeance (1995)                             |Action|Crime|Thriller                             |\n",
      "|6000  |185    |2.5   |185    |Net, The (1995)                                               |Action|Crime|Thriller                             |\n",
      "|6000  |293    |4.0   |293    |Léon: The Professional (a.k.a. The Professional) (Léon) (1994)|Action|Crime|Drama|Thriller                       |\n",
      "|6000  |317    |3.0   |317    |Santa Clause, The (1994)                                      |Comedy|Drama|Fantasy                              |\n",
      "|6000  |380    |3.0   |380    |True Lies (1994)                                              |Action|Adventure|Comedy|Romance|Thriller          |\n",
      "|6000  |382    |3.0   |382    |Wolf (1994)                                                   |Drama|Horror|Romance|Thriller                     |\n",
      "|6000  |527    |5.0   |527    |Schindler's List (1993)                                       |Drama|War                                         |\n",
      "|6000  |552    |3.0   |552    |Three Musketeers, The (1993)                                  |Action|Adventure|Comedy|Romance                   |\n",
      "|6000  |586    |3.0   |586    |Home Alone (1990)                                             |Children|Comedy                                   |\n",
      "|6000  |592    |3.0   |592    |Batman (1989)                                                 |Action|Crime|Thriller                             |\n",
      "|6000  |647    |3.0   |647    |Courage Under Fire (1996)                                     |Action|Crime|Drama|War                            |\n",
      "|6000  |673    |1.5   |673    |Space Jam (1996)                                              |Adventure|Animation|Children|Comedy|Fantasy|Sci-Fi|\n",
      "|6000  |784    |1.5   |784    |Cable Guy, The (1996)                                         |Comedy|Thriller                                   |\n",
      "|6000  |786    |1.5   |786    |Eraser (1996)                                                 |Action|Drama|Thriller                             |\n",
      "|6000  |924    |2.5   |924    |2001: A Space Odyssey (1968)                                  |Adventure|Drama|Sci-Fi                            |\n",
      "+------+-------+------+-------+--------------------------------------------------------------+--------------------------------------------------+\n",
      "only showing top 20 rows\n",
      "\n",
      "+-------+-----------------------------------------------------------+------------------+\n",
      "|movieId|title                                                      |genres            |\n",
      "+-------+-----------------------------------------------------------+------------------+\n",
      "|185659 |Macho Madness - The Randy Savage Ultimate Collection (2009)|(no genres listed)|\n",
      "|153002 |Celestial Subway Lines/Salvaging Noise (2005)              |Documentary       |\n",
      "|82055  |Devil to Pay!, The (1930)                                  |Comedy|Romance    |\n",
      "|184299 |Freedom on My Mind (1994)                                  |Documentary       |\n",
      "|201190 |The Hound of the Baskervilles (1929)                       |(no genres listed)|\n",
      "|73188  |Mayerling (1936)                                           |Drama             |\n",
      "|96451  |Man Is Not a Bird (Covek nije tica) (1965)                 |Drama|Romance     |\n",
      "|137585 |Dog Star Man: Part III (1964)                              |(no genres listed)|\n",
      "|153184 |Vergeef me                                                 |(no genres listed)|\n",
      "|148741 |Neapolitan Diary (1992)                                    |(no genres listed)|\n",
      "+-------+-----------------------------------------------------------+------------------+\n",
      "\n"
     ]
    }
   ],
   "source": [
    "cmp.printRatingandRecommended(6000)"
   ]
  },
  {
   "cell_type": "code",
   "execution_count": 19,
   "id": "a164c669",
   "metadata": {},
   "outputs": [
    {
     "name": "stdout",
     "output_type": "stream",
     "text": [
      "+------+--------------------+\n",
      "|userId|     recommendations|\n",
      "+------+--------------------+\n",
      "|   148|[[57946, 35.16254...|\n",
      "|   463|[[47904, 19.74903...|\n",
      "|   471|[[57946, 31.60759...|\n",
      "|   496|[[115973, 33.9138...|\n",
      "|   833|[[25789, 30.95429...|\n",
      "|  1088|[[57946, 37.27958...|\n",
      "|  1238|[[57946, 36.76107...|\n",
      "|  1342|[[86715, 29.21999...|\n",
      "|  1580|[[57946, 36.03212...|\n",
      "|  1591|[[57946, 42.09615...|\n",
      "|  1645|[[27884, 46.91272...|\n",
      "|  1829|[[57946, 39.14211...|\n",
      "|  1959|[[86715, 33.26827...|\n",
      "|  2122|[[113370, 36.8535...|\n",
      "|  2142|[[26073, 38.12136...|\n",
      "|  2366|[[57946, 27.83738...|\n",
      "|  2659|[[57946, 45.26], ...|\n",
      "|  2866|[[57946, 52.85083...|\n",
      "|  3175|[[115973, 31.7807...|\n",
      "|  3749|[[115973, 40.5823...|\n",
      "+------+--------------------+\n",
      "only showing top 20 rows\n",
      "\n"
     ]
    }
   ],
   "source": [
    "# example of implementation\n",
    "data = sample_rating()\n",
    "ratingforals = data.drop(\"timeStamp\")\n",
    "(training, test) = ratingforals.randomSplit([0.5, 0.5])\n",
    "als = ALS(maxIter=3, regParam=0.01, userCol=\"userId\", itemCol=\"movieId\", ratingCol=\"rating\", \n",
    "          coldStartStrategy=\"drop\")\n",
    "model = als.fit(training)\n",
    "model.t\n",
    "# Generate top 10 movie recommendations for each user\n",
    "userRecs = model.recommendForAllUsers(10)\n",
    "# Generate top 10 user recommendations for each movie\n",
    "movieRecs = model.recommendForAllItems(10)\n",
    "userRecs.show()"
   ]
  },
  {
   "cell_type": "code",
   "execution_count": 39,
   "id": "4d4d59d6",
   "metadata": {},
   "outputs": [
    {
     "name": "stdout",
     "output_type": "stream",
     "text": [
      "+------+\n",
      "|userId|\n",
      "+------+\n",
      "|   148|\n",
      "+------+\n",
      "\n"
     ]
    }
   ],
   "source": [
    "# example of selecting userID\n",
    "users1 = ratingforals.select(als.getUserCol()).distinct().filter(ratingforals.userId == 148)\n",
    "users1.show()"
   ]
  },
  {
   "cell_type": "code",
   "execution_count": 46,
   "id": "e8ffef9e",
   "metadata": {},
   "outputs": [],
   "source": [
    "userSubsetRecs = model.recommendForUserSubset(users1, 10)"
   ]
  },
  {
   "cell_type": "code",
   "execution_count": 54,
   "id": "c8f277ca",
   "metadata": {},
   "outputs": [],
   "source": [
    "recommendations = list(userSubsetRecs.select('recommendations').toPandas()['recommendations'])\n",
    "recommendations = recommendations[0]"
   ]
  },
  {
   "cell_type": "code",
   "execution_count": 63,
   "id": "77039ab1",
   "metadata": {},
   "outputs": [
    {
     "data": {
      "text/plain": [
       "[Row(movieId=57946, rating=35.16254806518555),\n",
       " Row(movieId=86715, rating=31.929285049438477),\n",
       " Row(movieId=115973, rating=30.611061096191406),\n",
       " Row(movieId=185659, rating=28.117338180541992),\n",
       " Row(movieId=156771, rating=26.829761505126953),\n",
       " Row(movieId=5518, rating=26.517826080322266),\n",
       " Row(movieId=84223, rating=25.6900634765625),\n",
       " Row(movieId=25759, rating=25.593900680541992),\n",
       " Row(movieId=89896, rating=25.101810455322266),\n",
       " Row(movieId=174565, rating=25.083829879760742)]"
      ]
     },
     "execution_count": 63,
     "metadata": {},
     "output_type": "execute_result"
    }
   ],
   "source": [
    "# example of getting recommended movies (the data format is pyspark DataFrame)\n",
    "recommendations"
   ]
  },
  {
   "cell_type": "code",
   "execution_count": null,
   "id": "6f4e662a",
   "metadata": {},
   "outputs": [],
   "source": []
  }
 ],
 "metadata": {
  "kernelspec": {
   "display_name": "Python 3",
   "language": "python",
   "name": "python3"
  },
  "language_info": {
   "codemirror_mode": {
    "name": "ipython",
    "version": 3
   },
   "file_extension": ".py",
   "mimetype": "text/x-python",
   "name": "python",
   "nbconvert_exporter": "python",
   "pygments_lexer": "ipython3",
   "version": "3.7.10"
  }
 },
 "nbformat": 4,
 "nbformat_minor": 5
}
