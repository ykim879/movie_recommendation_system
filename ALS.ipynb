{
 "cells": [
  {
   "cell_type": "code",
   "execution_count": 11,
   "id": "d906901c",
   "metadata": {},
   "outputs": [],
   "source": [
    "import os\n",
    "import pyspark\n",
    "from pyspark.sql.types import StructType,StructField, StringType, IntegerType, DoubleType\n",
    "from pyspark.sql import SparkSession\n",
    "from pyspark.sql.functions import col, concat, lit\n",
    "from pyspark.sql.functions import udf\n",
    "from pyspark.sql.types import *"
   ]
  },
  {
   "cell_type": "code",
   "execution_count": 12,
   "id": "7833aa53",
   "metadata": {},
   "outputs": [],
   "source": [
    "'''ALS'''\n",
    "from pyspark.ml.evaluation import RegressionEvaluator\n",
    "from pyspark.ml.recommendation import ALS\n",
    "from pyspark.sql import Row"
   ]
  },
  {
   "cell_type": "code",
   "execution_count": 15,
   "id": "74d45db8",
   "metadata": {},
   "outputs": [],
   "source": [
    "'''Report'''\n",
    "import matplotlib.pyplot as plt\n",
    "import numpy as np"
   ]
  },
  {
   "cell_type": "code",
   "execution_count": null,
   "id": "230920a6",
   "metadata": {},
   "outputs": [],
   "source": [
    "'''Pandas'''\n",
    "import pandas as pd"
   ]
  },
  {
   "cell_type": "code",
   "execution_count": 16,
   "id": "f69bb4df",
   "metadata": {},
   "outputs": [],
   "source": [
    "'''\n",
    "global paths\n",
    "'''\n",
    "datasets_path = os.path.join('..','movie_recommendation_system', 'datasets')\n",
    "complete_ratings_file = os.path.join(datasets_path, 'ml-latest', 'ratings.csv')\n",
    "tags_file = os.path.join(datasets_path, 'ml-latest', 'tags.csv')\n",
    "links_file = os.path.join(datasets_path, 'ml-latest','links.csv')\n",
    "movies_file = os.path.join(datasets_path, 'ml-latest', 'movies.csv')"
   ]
  },
  {
   "cell_type": "code",
   "execution_count": 17,
   "id": "06467713",
   "metadata": {},
   "outputs": [],
   "source": [
    "'''\n",
    "load pyspark\n",
    "'''\n",
    "spark = SparkSession.builder.getOrCreate()\n",
    "sc = spark.sparkContext\n",
    "spark = SparkSession.builder.appName(\"Spark_Processor\").config(\"spark.redis.port\", \"6379\").config(\"spark.jars\", \"spark-redis-branch-2.4/target/spark-redis_2.11-2.5.0-SNAPSHOT-jar-with-dependencies.jar\").getOrCreate()\n",
    "conf = pyspark.SparkConf()\n",
    "sc = spark.sparkContext"
   ]
  },
  {
   "cell_type": "code",
   "execution_count": 18,
   "id": "5ae0f641",
   "metadata": {},
   "outputs": [],
   "source": [
    "def sample_rating():\n",
    "    ratingschema = StructType()\\\n",
    "    .add(\"userId\", IntegerType(), True)\\\n",
    "    .add(\"movieId\", IntegerType(), True)\\\n",
    "    .add(\"rating\", DoubleType(), True)\\\n",
    "    .add(\"timeStamp\", IntegerType(), True)\n",
    "    ratingdf = spark.read.format(\"csv\")\\\n",
    "    .option(\"header\",True)\\\n",
    "    .schema(ratingschema)\\\n",
    "    .load(complete_ratings_file)\n",
    "    ratingforals = ratingdf.drop(\"timeStamp\")\n",
    "    (training, test) = ratingforals.randomSplit([0.2, 0.8])\n",
    "    return training"
   ]
  },
  {
   "cell_type": "code",
   "execution_count": 61,
   "id": "4dad0ff7",
   "metadata": {},
   "outputs": [],
   "source": [
    "'''evaluate rmse from lower rank to upper rank'''\n",
    "def rank_rmse(lower, upper):\n",
    "    data = sample_rating()\n",
    "    ratingforals = data.drop(\"timeStamp\")\n",
    "    (training, test) = ratingforals.randomSplit([0.8, 0.2])\n",
    "    result = []\n",
    "    for r in range(lower,upper, 10):\n",
    "        als = ALS(maxIter=3, rank = r, regParam=0.01, userCol=\"userId\", itemCol=\"movieId\", ratingCol=\"rating\", \n",
    "          coldStartStrategy=\"drop\")\n",
    "        model = als.fit(training)\n",
    "        predictions = model.transform(test)\n",
    "        evaluator = RegressionEvaluator(metricName=\"rmse\", labelCol=\"rating\",\n",
    "                                predictionCol=\"prediction\")\n",
    "        result.append(evaluator.evaluate(predictions))\n",
    "    return result"
   ]
  },
  {
   "cell_type": "code",
   "execution_count": 66,
   "id": "0c74b65e",
   "metadata": {},
   "outputs": [
    {
     "data": {
      "image/png": "[encoded data removed]",
      "text/plain": [
       "<Figure size 432x288 with 1 Axes>"
      ]
     },
     "metadata": {
      "needs_background": "light"
     },
     "output_type": "display_data"
    }
   ],
   "source": [
    "''' Report : test rank from 10(default) to 50 '''\n",
    "rank_list = list(range(50, 9, -10))\n",
    "rmse_list = rank_rmse(10, 51)\n",
    "plt.plot(rank_list, rmse_list)\n",
    "plt.show()"
   ]
  },
  {
   "cell_type": "code",
   "execution_count": null,
   "id": "3acb9077",
   "metadata": {},
   "outputs": [],
   "source": [
    "class ALS_Model:\n",
    "    '''\n",
    "    data: rating dataframe\n",
    "    '''\n",
    "    def __init__(self, data):\n",
    "        this.als = ALS(maxIter=3, regParam=0.01, userCol=\"userId\", itemCol=\"movieId\", ratingCol=\"rating\", \n",
    "          coldStartStrategy=\"drop\")\n",
    "        this.ratingforals = data.drop(\"timeStamp\")\n",
    "        this.model = als.fit(this.ratingforals)\n",
    "    def recommendForUser(self, userId):\n",
    "    '''\n",
    "    get a recommendation for a user\n",
    "    \n",
    "    userId: integer value for a user id\n",
    "    result: recommendedMovieID: list of movie ID that a userID gets recommended\n",
    "    '''\n",
    "        user = this.ratingforals.select(\"userId\").distinct().filter(this.ratingforals.userId == userId)\n",
    "        userSubsetRecs = model.recommendForUserSubset(user, 10)\n",
    "        recommendations = list(userSubsetRecs.select('recommendations').toPandas()['recommendations'])\n",
    "        recommendations = recommendations[0]\n",
    "        recommendedMovieID = []\n",
    "        for row in range(len(recommendations)):\n",
    "            recommendedMovieId.append(row[0])\n",
    "        return recommendedMovieID"
   ]
  },
  {
   "cell_type": "code",
   "execution_count": 19,
   "id": "a164c669",
   "metadata": {},
   "outputs": [
    {
     "name": "stdout",
     "output_type": "stream",
     "text": [
      "+------+--------------------+\n",
      "|userId|     recommendations|\n",
      "+------+--------------------+\n",
      "|   148|[[57946, 35.16254...|\n",
      "|   463|[[47904, 19.74903...|\n",
      "|   471|[[57946, 31.60759...|\n",
      "|   496|[[115973, 33.9138...|\n",
      "|   833|[[25789, 30.95429...|\n",
      "|  1088|[[57946, 37.27958...|\n",
      "|  1238|[[57946, 36.76107...|\n",
      "|  1342|[[86715, 29.21999...|\n",
      "|  1580|[[57946, 36.03212...|\n",
      "|  1591|[[57946, 42.09615...|\n",
      "|  1645|[[27884, 46.91272...|\n",
      "|  1829|[[57946, 39.14211...|\n",
      "|  1959|[[86715, 33.26827...|\n",
      "|  2122|[[113370, 36.8535...|\n",
      "|  2142|[[26073, 38.12136...|\n",
      "|  2366|[[57946, 27.83738...|\n",
      "|  2659|[[57946, 45.26], ...|\n",
      "|  2866|[[57946, 52.85083...|\n",
      "|  3175|[[115973, 31.7807...|\n",
      "|  3749|[[115973, 40.5823...|\n",
      "+------+--------------------+\n",
      "only showing top 20 rows\n",
      "\n"
     ]
    }
   ],
   "source": [
    "# example of implementation\n",
    "data = sample_rating()\n",
    "ratingforals = data.drop(\"timeStamp\")\n",
    "(training, test) = ratingforals.randomSplit([0.5, 0.5])\n",
    "als = ALS(maxIter=3, regParam=0.01, userCol=\"userId\", itemCol=\"movieId\", ratingCol=\"rating\", \n",
    "          coldStartStrategy=\"drop\")\n",
    "model = als.fit(training)\n",
    "# Generate top 10 movie recommendations for each user\n",
    "userRecs = model.recommendForAllUsers(10)\n",
    "# Generate top 10 user recommendations for each movie\n",
    "movieRecs = model.recommendForAllItems(10)\n",
    "userRecs.show()"
   ]
  },
  {
   "cell_type": "code",
   "execution_count": 39,
   "id": "4d4d59d6",
   "metadata": {},
   "outputs": [
    {
     "name": "stdout",
     "output_type": "stream",
     "text": [
      "+------+\n",
      "|userId|\n",
      "+------+\n",
      "|   148|\n",
      "+------+\n",
      "\n"
     ]
    }
   ],
   "source": [
    "# example of selecting userID\n",
    "users1 = ratingforals.select(als.getUserCol()).distinct().filter(ratingforals.userId == 148)\n",
    "users1.show()"
   ]
  },
  {
   "cell_type": "code",
   "execution_count": 46,
   "id": "e8ffef9e",
   "metadata": {},
   "outputs": [],
   "source": [
    "userSubsetRecs = model.recommendForUserSubset(users1, 10)"
   ]
  },
  {
   "cell_type": "code",
   "execution_count": 54,
   "id": "c8f277ca",
   "metadata": {},
   "outputs": [],
   "source": [
    "recommendations = list(userSubsetRecs.select('recommendations').toPandas()['recommendations'])\n",
    "recommendations = recommendations[0]"
   ]
  },
  {
   "cell_type": "code",
   "execution_count": 63,
   "id": "77039ab1",
   "metadata": {},
   "outputs": [
    {
     "data": {
      "text/plain": [
       "[Row(movieId=57946, rating=35.16254806518555),\n",
       " Row(movieId=86715, rating=31.929285049438477),\n",
       " Row(movieId=115973, rating=30.611061096191406),\n",
       " Row(movieId=185659, rating=28.117338180541992),\n",
       " Row(movieId=156771, rating=26.829761505126953),\n",
       " Row(movieId=5518, rating=26.517826080322266),\n",
       " Row(movieId=84223, rating=25.6900634765625),\n",
       " Row(movieId=25759, rating=25.593900680541992),\n",
       " Row(movieId=89896, rating=25.101810455322266),\n",
       " Row(movieId=174565, rating=25.083829879760742)]"
      ]
     },
     "execution_count": 63,
     "metadata": {},
     "output_type": "execute_result"
    }
   ],
   "source": [
    "# example of getting recommended movies (the data format is pyspark DataFrame)\n",
    "recommendations"
   ]
  }
 ],
 "metadata": {
  "kernelspec": {
   "display_name": "Python 3",
   "language": "python",
   "name": "python3"
  },
  "language_info": {
   "codemirror_mode": {
    "name": "ipython",
    "version": 3
   },
   "file_extension": ".py",
   "mimetype": "text/x-python",
   "name": "python",
   "nbconvert_exporter": "python",
   "pygments_lexer": "ipython3",
   "version": "3.7.10"
  }
 },
 "nbformat": 4,
 "nbformat_minor": 5
}
